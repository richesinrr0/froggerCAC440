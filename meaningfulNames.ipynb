{
 "cells": [
  {
   "cell_type": "code",
   "execution_count": 28,
   "metadata": {},
   "outputs": [
    {
     "data": {
      "text/plain": [
       "'\\nThis code is supposed to use the substitution cipher and encrypt\\nand decrypt accordingly.\\n'"
      ]
     },
     "execution_count": 28,
     "metadata": {},
     "output_type": "execute_result"
    }
   ],
   "source": [
    "'''\n",
    "This code is supposed to use the substitution cipher and encrypt\n",
    "and decrypt accordingly.\n",
    "'''\n"
   ]
  },
  {
   "cell_type": "code",
   "execution_count": 29,
   "metadata": {},
   "outputs": [],
   "source": [
    "def encrypt(input):\n",
    "    alphabet = 'abcdefghijklmnopqrstuvwxyz.,!?'\n",
    "    substituteAlphabet = 'acegikmoqsuvywbdfhjlnprtxz?.!,'\n",
    "    encrypt = ''\n",
    "    for letter in input:\n",
    "        if letter != ' ':\n",
    "            if letter == letter.lower():\n",
    "                letterIdx = alphabet.index(letter)\n",
    "                encrypt += substituteAlphabet[letterIdx]\n",
    "            else:\n",
    "                letterIdx = alphabet.index(letter.lower())\n",
    "                encrypt += substituteAlphabet[letterIdx].upper()\n",
    "        else: \n",
    "            encrypt += ' '\n",
    "    return encrypt"
   ]
  },
  {
   "cell_type": "code",
   "execution_count": 30,
   "metadata": {},
   "outputs": [],
   "source": [
    "def decrypt(input):\n",
    "    alphabet = 'abcdefghijklmnopqrstuvwxyz.,!?'\n",
    "    substitute = 'acegikmoqsuvywbdfhjlnprtxz?.!,'\n",
    "    decrypt = ''\n",
    "    for letter in input:\n",
    "        if letter != ' ':\n",
    "            if letter == letter.lower():\n",
    "            \n",
    "                letterIdx = substitute.index(letter)\n",
    "\n",
    "                decrypt += alphabet[letterIdx]\n",
    "            else:\n",
    "                letterIdx = substitute.index(letter.lower())\n",
    "                decrypt += alphabet[letterIdx].upper()\n",
    "        else: \n",
    "            decrypt += ' '\n",
    "    return decrypt"
   ]
  },
  {
   "cell_type": "code",
   "execution_count": 31,
   "metadata": {},
   "outputs": [
    {
     "name": "stdout",
     "output_type": "stream",
     "text": [
      "Enter a message: Hi, Im Ross\n",
      "Oq. Qy Hbjj\n",
      "Hi, Im Ross\n"
     ]
    }
   ],
   "source": [
    "def main():\n",
    "    message = input('Enter a message: ')\n",
    "    coded = encrypt(message)\n",
    "    print(coded)\n",
    "    print(decrypt(coded))\n",
    "\n",
    "main()"
   ]
  },
  {
   "cell_type": "code",
   "execution_count": null,
   "metadata": {},
   "outputs": [],
   "source": []
  }
 ],
 "metadata": {
  "kernelspec": {
   "display_name": "Python 3",
   "language": "python",
   "name": "python3"
  },
  "language_info": {
   "codemirror_mode": {
    "name": "ipython",
    "version": 3
   },
   "file_extension": ".py",
   "mimetype": "text/x-python",
   "name": "python",
   "nbconvert_exporter": "python",
   "pygments_lexer": "ipython3",
   "version": "3.8.5"
  }
 },
 "nbformat": 4,
 "nbformat_minor": 4
}
