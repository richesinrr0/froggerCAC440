{
 "cells": [
  {
   "cell_type": "code",
   "execution_count": 19,
   "id": "3b63bcca",
   "metadata": {},
   "outputs": [
    {
     "name": "stdout",
     "output_type": "stream",
     "text": [
      "Enter formula: cos(0)+cos(0)\n",
      "['c', 'o', 's', '(', '0', ')', '+', 'c', 'o', 's', '(', '0', ')']\n",
      "0 c\n",
      "idx: 0\n",
      "ct:  ['n', 'p', '.', 'c', 'o', 's', '(', '0', ')', '+', 'c', 'o', 's', '(', '0', ')']\n",
      "1 o\n",
      "2 s\n",
      "3 (\n",
      "4 0\n",
      "5 )\n",
      "6 +\n",
      "7 c\n",
      "idx: 7\n",
      "ct:  ['n', 'p', '.', 'c', 'o', 's', '(', 'n', 'p', '.', '0', ')', '+', 'c', 'o', 's', '(', '0', ')']\n",
      "8 o\n",
      "9 s\n",
      "10 (\n",
      "11 0\n",
      "12 )\n",
      "['n', 'p', '.', 'c', 'o', 's', '(', 'n', 'p', '.', '0', ')', '+', 'c', 'o', 's', '(', '0', ')']\n"
     ]
    }
   ],
   "source": [
    "import numpy as np\n",
    "\n",
    "formula = input('Enter formula: ')\n",
    "Lformula = list(formula)\n",
    "LformCopy = Lformula.copy()\n",
    "print(Lformula)\n",
    "for idx, i in enumerate(LformCopy):\n",
    "    print(idx,i)\n",
    "  #can do if no error when converting to string (str(i))\n",
    "    if i in ['c','t']:\n",
    "        Lformula.insert(idx,'.')\n",
    "        Lformula.insert(idx,'p')\n",
    "        Lformula.insert(idx,'n')\n",
    "        print('idx:',idx)\n",
    "        print('ct: ',Lformula)\n",
    "    elif i == 's' and LformCopy[idx+1]!='(':\n",
    "        print('idx:',idx)\n",
    "        print(LformCopy[idx+1])\n",
    "        Lformula.insert(idx,'.')\n",
    "        Lformula.insert(idx,'p')\n",
    "        Lformula.insert(idx,'n')\n",
    "        print('s: ',Lformula)\n",
    "\n",
    "        \n",
    "print(Lformula)"
   ]
  },
  {
   "cell_type": "code",
   "execution_count": 9,
   "id": "73adccb5",
   "metadata": {},
   "outputs": [
    {
     "ename": "NameError",
     "evalue": "name 'cos' is not defined",
     "output_type": "error",
     "traceback": [
      "\u001b[0;31m---------------------------------------------------------------------------\u001b[0m",
      "\u001b[0;31mNameError\u001b[0m                                 Traceback (most recent call last)",
      "\u001b[0;32m<ipython-input-9-05467913bd91>\u001b[0m in \u001b[0;36m<module>\u001b[0;34m\u001b[0m\n\u001b[0;32m----> 1\u001b[0;31m \u001b[0mprint\u001b[0m\u001b[0;34m(\u001b[0m\u001b[0meval\u001b[0m\u001b[0;34m(\u001b[0m\u001b[0;34m''\u001b[0m\u001b[0;34m.\u001b[0m\u001b[0mjoin\u001b[0m\u001b[0;34m(\u001b[0m\u001b[0mLformula\u001b[0m\u001b[0;34m)\u001b[0m\u001b[0;34m)\u001b[0m\u001b[0;34m)\u001b[0m\u001b[0;34m\u001b[0m\u001b[0;34m\u001b[0m\u001b[0m\n\u001b[0m",
      "\u001b[0;32m<string>\u001b[0m in \u001b[0;36m<module>\u001b[0;34m\u001b[0m\n",
      "\u001b[0;31mNameError\u001b[0m: name 'cos' is not defined"
     ]
    }
   ],
   "source": [
    "print(eval(''.join(Lformula)))"
   ]
  },
  {
   "cell_type": "code",
   "execution_count": null,
   "id": "825aa8f9",
   "metadata": {},
   "outputs": [],
   "source": [
    "re.sub('[)"
   ]
  },
  {
   "cell_type": "code",
   "execution_count": null,
   "id": "c0521e1e",
   "metadata": {},
   "outputs": [],
   "source": [
    "2*(3+4)- 21/7"
   ]
  },
  {
   "cell_type": "code",
   "execution_count": null,
   "id": "38e5e0c5",
   "metadata": {},
   "outputs": [],
   "source": [
    "cos(0)+tan(1)"
   ]
  },
  {
   "cell_type": "code",
   "execution_count": 44,
   "id": "5d04b4b8",
   "metadata": {},
   "outputs": [
    {
     "name": "stdout",
     "output_type": "stream",
     "text": [
      "Enter formula: 2*(3+4)- 21/7\n",
      "11.0\n"
     ]
    }
   ],
   "source": [
    "formula = input('Enter formula: ')\n",
    "'''\n",
    "for idx,i in enumerate(formula):\n",
    "    if i == '^':\n",
    "        print(formula[idx+1:-1])\n",
    "        formula = formula[0:idx-1] + formula[-1:idx+1]\n",
    "'''\n",
    "        \n",
    "formula = formula.replace('^','pow(,)')\n",
    "formula = formula.replace('sin','np.sin')\n",
    "formula = formula.replace('cos','np.cos')\n",
    "formula = formula.replace('tan','np.tan')\n",
    "formula = formula.replace('sqrt','np.sqrt')\n",
    "\n",
    "print(eval(''.join(formula)))"
   ]
  },
  {
   "cell_type": "code",
   "execution_count": 32,
   "id": "9f941158",
   "metadata": {},
   "outputs": [
    {
     "name": "stdout",
     "output_type": "stream",
     "text": [
      "16\n"
     ]
    }
   ],
   "source": [
    "print(pow(2,4))"
   ]
  },
  {
   "cell_type": "code",
   "execution_count": null,
   "id": "8c47bbfa",
   "metadata": {},
   "outputs": [],
   "source": []
  }
 ],
 "metadata": {
  "kernelspec": {
   "display_name": "Python 3",
   "language": "python",
   "name": "python3"
  },
  "language_info": {
   "codemirror_mode": {
    "name": "ipython",
    "version": 3
   },
   "file_extension": ".py",
   "mimetype": "text/x-python",
   "name": "python",
   "nbconvert_exporter": "python",
   "pygments_lexer": "ipython3",
   "version": "3.8.8"
  }
 },
 "nbformat": 4,
 "nbformat_minor": 5
}
