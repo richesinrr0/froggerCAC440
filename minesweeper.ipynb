{
 "cells": [
  {
   "cell_type": "code",
   "execution_count": null,
   "id": "11d70b05",
   "metadata": {},
   "outputs": [],
   "source": [
    "'''\n",
    "Create 10x10 grid\n",
    "mark empty cells with 0's\n",
    "use random number generator to generate positions of bombs =10\n",
    "function to take position of every bomb and add 1 to cells adjacent\n",
    "\n",
    "Gui:\n",
    "X = bomb\n",
    "F = flag\n",
    "0 = no adjacent \n",
    "(num) = number of adjacent\n",
    "\n",
    "\n",
    "\n",
    "x's next to each other\n",
    "x's at beginning and end of lines\n",
    "'''"
   ]
  },
  {
   "cell_type": "code",
   "execution_count": 85,
   "id": "e279e7b4",
   "metadata": {},
   "outputs": [],
   "source": [
    "import random"
   ]
  },
  {
   "cell_type": "code",
   "execution_count": 84,
   "id": "2f0a9f93",
   "metadata": {},
   "outputs": [],
   "source": [
    "def reset_fake_grid():\n",
    "    fake_grid = [\n",
    "             [' ','1','2','3','4','5','6','7','8','9','10'],\n",
    "             ['1','_','_','_','_','_','_','_','_','_','_'],\n",
    "             ['2','_','_','_','_','_','_','_','_','_','_'],\n",
    "             ['3','_','_','_','_','_','_','_','_','_','_'],\n",
    "             ['4','_','_','_','_','_','_','_','_','_','_'],\n",
    "             ['5','_','_','_','_','_','_','_','_','_','_'],\n",
    "             ['6','_','_','_','_','_','_','_','_','_','_'],\n",
    "             ['7','_','_','_','_','_','_','_','_','_','_'],\n",
    "             ['8','_','_','_','_','_','_','_','_','_','_'],\n",
    "             ['9','_','_','_','_','_','_','_','_','_','_'],\n",
    "             ['10','_','_','_','_','_','_','_','_','_','_']]\n",
    "    return fake_grid"
   ]
  },
  {
   "cell_type": "code",
   "execution_count": 3,
   "id": "0127f128",
   "metadata": {},
   "outputs": [
    {
     "data": {
      "text/plain": [
       "[[' ', ' 1', '2', '3', '4', '5', '6', '7', '8', '9', '10'],\n",
       " ['1', ' _', '_', '_', '_', '_', '_', '_', '_', '_', '_'],\n",
       " ['2', ' _', '_', '_', '_', '_', '_', '_', '_', '_', '_'],\n",
       " ['3', ' _', '_', '_', '_', '_', '_', '_', '_', '_', '_'],\n",
       " ['4', ' _', '_', '_', '_', '_', '_', '_', '_', '_', '_'],\n",
       " ['5', ' _', '_', '_', '_', '_', '_', '_', '_', '_', '_'],\n",
       " ['6', ' _', '_', '_', '_', '_', '_', '_', '_', '_', '_'],\n",
       " ['7', ' _', '_', '_', '_', '_', '_', '_', '_', '_', '_'],\n",
       " ['8', ' _', '_', '_', '_', '_', '_', '_', '_', '_', '_'],\n",
       " ['9', ' _', '_', '_', '_', '_', '_', '_', '_', '_', '_'],\n",
       " ['10', '_', '_', '_', '_', '_', '_', '_', '_', '_', '_']]"
      ]
     },
     "metadata": {},
     "output_type": "display_data"
    }
   ],
   "source": [
    "display(fake_grid)"
   ]
  },
  {
   "cell_type": "code",
   "execution_count": 4,
   "id": "20df2df8",
   "metadata": {},
   "outputs": [],
   "source": [
    "def generate_bombs(game_grid):\n",
    "    #generate 10 postions for bombs\n",
    "    x_bomb_pos = []\n",
    "    y_bomb_pos = []\n",
    "    for i in range(11):\n",
    "        x_bomb_pos.append(random.randint(0,9))\n",
    "        y_bomb_pos.append(random.randint(0,9))\n",
    "    #place bombs on grid\n",
    "    for x,y in zip(x_bomb_pos, y_bomb_pos):\n",
    "        game_grid[x][y] = 'X'\n",
    "    return game_grid"
   ]
  },
  {
   "cell_type": "code",
   "execution_count": 5,
   "id": "3a19f875",
   "metadata": {},
   "outputs": [],
   "source": [
    "def initialize_reset_grid():\n",
    "    game_grid = [[0,0,0,0,0,0,0,0,0,0],\n",
    "             [0,0,0,0,0,0,0,0,0,0],\n",
    "             [0,0,0,0,0,0,0,0,0,0],\n",
    "             [0,0,0,0,0,0,0,0,0,0],\n",
    "             [0,0,0,0,0,0,0,0,0,0],\n",
    "             [0,0,0,0,0,0,0,0,0,0],\n",
    "             [0,0,0,0,0,0,0,0,0,0],\n",
    "             [0,0,0,0,0,0,0,0,0,0],\n",
    "             [0,0,0,0,0,0,0,0,0,0],\n",
    "             [0,0,0,0,0,0,0,0,0,0]]\n",
    "    return game_grid"
   ]
  },
  {
   "cell_type": "code",
   "execution_count": 6,
   "id": "5229ff1b",
   "metadata": {},
   "outputs": [],
   "source": [
    "def add_values(game_grid):\n",
    "    for y in range(10):\n",
    "        for x in range(10):\n",
    "            if game_grid[y][x] =='X':\n",
    "                #top left corner\n",
    "                if y==0 and x==0:\n",
    "                    if game_grid[y][x+1] != 'X':\n",
    "                        game_grid[y][x+1] +=1\n",
    "                    if game_grid[y+1][x] != 'X':\n",
    "                        game_grid[y+1][x] +=1\n",
    "                    if game_grid[y+1][x+1] != 'X':\n",
    "                        game_grid[y+1][x+1] +=1\n",
    "                #top right corner\n",
    "                elif y==0 and x==9:\n",
    "                    if game_grid[y][x-1] != 'X':\n",
    "                        game_grid[y][x-1] +=1\n",
    "                    if game_grid[y+1][x-1] != 'X':\n",
    "                        game_grid[y+1][x-1] +=1\n",
    "                    if game_grid[y+1][x] != 'X':\n",
    "                        game_grid[y+1][x] +=1\n",
    "                #bottom left corner\n",
    "                elif y==9 and x==0:\n",
    "                    if game_grid[y][x+1] != 'X':\n",
    "                        game_grid[y][x+1] +=1\n",
    "                    if game_grid[y-1][x] != 'X':\n",
    "                        game_grid[y-1][x] +=1\n",
    "                    if game_grid[y-1][x+1] != 'X':\n",
    "                        game_grid[y-1][x+1] +=1\n",
    "                #bottom right corner\n",
    "                elif y==9 and x==9:\n",
    "                    if game_grid[y][x-1] != 'X':\n",
    "                        game_grid[y][x-1] +=1\n",
    "                    if game_grid[y-1][x] != 'X':\n",
    "                        game_grid[y-1][x] +=1\n",
    "                    if game_grid[y-1][x-1] != 'X':\n",
    "                        game_grid[y-1][x-1] +=1\n",
    "                #top center\n",
    "                elif y==0:\n",
    "                    if game_grid[y][x-1] != 'X':\n",
    "                        game_grid[y][x-1] +=1\n",
    "                    if game_grid[y][x+1] != 'X':\n",
    "                        game_grid[y][x+1] +=1\n",
    "                    if game_grid[y+1][x-1] != 'X':\n",
    "                        game_grid[y+1][x-1] +=1\n",
    "                    if game_grid[y+1][x] != 'X':\n",
    "                        game_grid[y+1][x]+=1\n",
    "                    if game_grid[y+1][x+1] != 'X':\n",
    "                        game_grid[y+1][x+1]+=1\n",
    "                #bottom center\n",
    "                elif y==9:\n",
    "                    if game_grid[y][x-1] != 'X':\n",
    "                        game_grid[y][x-1] +=1\n",
    "                    if game_grid[y][x+1] != 'X':\n",
    "                        game_grid[y][x+1] +=1\n",
    "                    if game_grid[y-1][x-1] != 'X':\n",
    "                        game_grid[y-1][x-1]+=1\n",
    "                    if game_grid[y-1][x] != 'X':\n",
    "                        game_grid[y-1][x]+=1\n",
    "                    if game_grid[y-1][x+1] != 'X':\n",
    "                        game_grid[y-1][x+1]+=1\n",
    "                #left center\n",
    "                elif x==0:\n",
    "                    if game_grid[y-1][x] != 'X':\n",
    "                        game_grid[y-1][x] +=1\n",
    "                    if game_grid[y-1][x+1] != 'X':\n",
    "                        game_grid[y-1][x+1] +=1\n",
    "                    if game_grid[y][x+1] != 'X':\n",
    "                        game_grid[y][x+1]+=1\n",
    "                    if game_grid[y+1][x] != 'X':\n",
    "                        game_grid[y+1][x]+=1\n",
    "                    if game_grid[y+1][x+1] != 'X':\n",
    "                        game_grid[y+1][x+1]+=1\n",
    "                #right center\n",
    "                elif x==9:\n",
    "                    if game_grid[y-1][x] != 'X':\n",
    "                        game_grid[y-1][x] +=1\n",
    "                    if game_grid[y-1][x-1] != 'X':\n",
    "                        game_grid[y-1][x-1] +=1\n",
    "                    if game_grid[y][x-1] != 'X':\n",
    "                        game_grid[y][x-1]+=1\n",
    "                    if game_grid[y+1][x] != 'X':\n",
    "                        game_grid[y+1][x]+=1\n",
    "                    if game_grid[y+1][x-1] != 'X':\n",
    "                        game_grid[y+1][x-1]+=1\n",
    "                #not corners\n",
    "                else:\n",
    "                    if game_grid[y][x-1] != 'X':\n",
    "                        game_grid[y][x-1] +=1   \n",
    "                    if game_grid[y][x+1] != 'X':\n",
    "                        game_grid[y][x+1] +=1  \n",
    "                    if game_grid[y-1][x-1] != 'X':\n",
    "                        game_grid[y-1][x-1]+=1 \n",
    "                    if game_grid[y-1][x] != 'X':\n",
    "                        game_grid[y-1][x]+=1  \n",
    "                    if game_grid[y-1][x+1] != 'X':\n",
    "                        game_grid[y-1][x+1]+=1  \n",
    "                    if game_grid[y+1][x-1] != 'X':\n",
    "                        game_grid[y+1][x-1] +=1 \n",
    "                    if game_grid[y+1][x] != 'X':\n",
    "                        game_grid[y+1][x] +=1     \n",
    "                    if game_grid[y+1][x+1] != 'X':\n",
    "                        game_grid[y+1][x+1] +=1\n",
    "    return game_grid\n",
    "\n",
    "\n",
    "                "
   ]
  },
  {
   "cell_type": "code",
   "execution_count": 74,
   "id": "c650da1e",
   "metadata": {},
   "outputs": [],
   "source": [
    "#turn into reecursive function?\n",
    "def check_zeros_tree(game_grid_values,x,y, all_zeros_x, all_zeros_y):\n",
    "    x_check=[x+1,x+1,x,x-1,x-1,x-1,x,x+1]\n",
    "    y_check=[y,y-1,y-1,y-1,y,y+1,y+1,y+1]\n",
    "    print('list x1:',all_zeros_x)\n",
    "    print('list y1', all_zeros_y)\n",
    "    for check_zeros_x, check_zeros_y in zip(x_check,y_check):\n",
    "        if check_zeros_x >= 0 and check_zeros_y >= 0 and check_zeros_x <=9 and check_zeros_y <=9:\n",
    "            if game_grid_values[check_zeros_y][check_zeros_x] == 0:\n",
    "                print('check_zeros_x',check_zeros_x)\n",
    "                print('check_zeros_y',check_zeros_y)\n",
    "                all_zeros_x.append(check_zeros_x)\n",
    "                all_zeros_y.append(check_zeros_y)\n",
    "    print('list x:',all_zeros_x)\n",
    "    print('list y', all_zeros_y)\n",
    "    return all_zeros_x, all_zeros_y"
   ]
  },
  {
   "cell_type": "code",
   "execution_count": 88,
   "id": "b0cbe1e5",
   "metadata": {},
   "outputs": [
    {
     "data": {
      "text/plain": [
       "[['X', 1, 0, 0, 1, 1, 1, 0, 0, 0],\n",
       " [1, 1, 0, 0, 1, 'X', 1, 0, 0, 0],\n",
       " [0, 0, 0, 0, 1, 1, 1, 0, 0, 0],\n",
       " [1, 1, 1, 0, 0, 0, 0, 0, 0, 0],\n",
       " [1, 'X', 1, 0, 0, 0, 0, 0, 0, 0],\n",
       " [2, 2, 2, 0, 1, 2, 2, 1, 0, 0],\n",
       " [1, 'X', 1, 0, 1, 'X', 'X', 1, 0, 0],\n",
       " [1, 1, 1, 0, 2, 3, 3, 2, 2, 2],\n",
       " [0, 0, 1, 1, 2, 'X', 1, 1, 'X', 'X'],\n",
       " [0, 0, 1, 'X', 2, 1, 1, 1, 3, 'X']]"
      ]
     },
     "metadata": {},
     "output_type": "display_data"
    },
    {
     "data": {
      "text/plain": [
       "[[' ', '1', '2', '3', '4', '5', '6', '7', '8', '9', '10'],\n",
       " ['1', '_', '_', '_', '_', '_', '_', '_', '_', '_', '_'],\n",
       " ['2', '_', '_', '_', '_', '_', '_', '_', '_', '_', '_'],\n",
       " ['3', '_', '_', '_', '_', '_', '_', '_', '_', '_', '_'],\n",
       " ['4', '_', '_', '_', '_', '_', '_', '_', '_', '_', '_'],\n",
       " ['5', '_', '_', '_', '_', '_', '_', '_', '_', '_', '_'],\n",
       " ['6', '_', '_', '_', '_', '_', '_', '_', '_', '_', '_'],\n",
       " ['7', '_', '_', '_', '_', '_', '_', '_', '_', '_', '_'],\n",
       " ['8', '_', '_', '_', '_', '_', '_', '_', '_', '_', '_'],\n",
       " ['9', '_', '_', '_', '_', '_', '_', '_', '_', '_', '_'],\n",
       " ['10', '_', '_', '_', '_', '_', '_', '_', '_', '_', '_']]"
      ]
     },
     "metadata": {},
     "output_type": "display_data"
    },
    {
     "name": "stdout",
     "output_type": "stream",
     "text": [
      "Enter x value (1-10): 3\n",
      "Enter y value (1-10): 1\n",
      "0\n",
      "list x1: []\n",
      "list y1 []\n",
      "check_zeros_x 3\n",
      "check_zeros_y 0\n",
      "check_zeros_x 2\n",
      "check_zeros_y 1\n",
      "check_zeros_x 3\n",
      "check_zeros_y 1\n",
      "list x: [3, 2, 3]\n",
      "list y [0, 1, 1]\n",
      "in main: [0, 1, 1]\n",
      "list x1: [3, 2, 3]\n",
      "list y1 [0, 1, 1]\n",
      "check_zeros_x 2\n",
      "check_zeros_y 0\n",
      "check_zeros_x 2\n",
      "check_zeros_y 1\n",
      "check_zeros_x 3\n",
      "check_zeros_y 1\n",
      "list x: [3, 2, 3, 2, 2, 3]\n",
      "list y [0, 1, 1, 0, 1, 1]\n",
      "list x1: [3, 2, 3, 2, 2, 3, [...]]\n",
      "list y1 [0, 1, 1, 0, 1, 1]\n",
      "check_zeros_x 2\n",
      "check_zeros_y 0\n",
      "check_zeros_x 2\n",
      "check_zeros_y 1\n",
      "check_zeros_x 3\n",
      "check_zeros_y 1\n",
      "list x: [3, 2, 3, 2, 2, 3, [...], 2, 2, 3]\n",
      "list y [0, 1, 1, 0, 1, 1, 0, 1, 1]\n"
     ]
    },
    {
     "data": {
      "text/plain": [
       "[[' ', '1', '2', '3', '4', '5', '6', '7', '8', '9', '10'],\n",
       " ['1', '_', '_', '0', '0', '_', '_', '_', '_', '_', '_'],\n",
       " ['2', '_', '_', '_', '_', '_', '_', '_', '_', '_', '_'],\n",
       " ['3', '_', '_', '_', '_', '_', '_', '_', '_', '_', '_'],\n",
       " ['4', '_', '_', '_', '_', '_', '_', '_', '_', '_', '_'],\n",
       " ['5', '_', '_', '_', '_', '_', '_', '_', '_', '_', '_'],\n",
       " ['6', '_', '_', '_', '_', '_', '_', '_', '_', '_', '_'],\n",
       " ['7', '_', '_', '_', '_', '_', '_', '_', '_', '_', '_'],\n",
       " ['8', '_', '_', '_', '_', '_', '_', '_', '_', '_', '_'],\n",
       " ['9', '_', '_', '_', '_', '_', '_', '_', '_', '_', '_'],\n",
       " ['10', '_', '_', '_', '_', '_', '_', '_', '_', '_', '_']]"
      ]
     },
     "metadata": {},
     "output_type": "display_data"
    },
    {
     "name": "stdout",
     "output_type": "stream",
     "text": [
      "list x1: [3, 2, 3, 2, 2, 3, [...], 2, 2, 3]\n",
      "list y1 [0, 1, 1, 0, 1, 1, 0, 1, 1, [...]]\n",
      "check_zeros_x 3\n",
      "check_zeros_y 1\n",
      "check_zeros_x 3\n",
      "check_zeros_y 0\n",
      "check_zeros_x 2\n",
      "check_zeros_y 0\n",
      "check_zeros_x 1\n",
      "check_zeros_y 2\n",
      "check_zeros_x 2\n",
      "check_zeros_y 2\n",
      "check_zeros_x 3\n",
      "check_zeros_y 2\n",
      "list x: [3, 2, 3, 2, 2, 3, [...], 2, 2, 3, 3, 3, 2, 1, 2, 3]\n",
      "list y [0, 1, 1, 0, 1, 1, 0, 1, 1, [...], 1, 0, 0, 2, 2, 2]\n",
      "list x1: [3, 2, 3, 2, 2, 3, [...], 2, 2, 3, 3, 3, 2, 1, 2, 3, [...]]\n",
      "list y1 [0, 1, 1, 0, 1, 1, 0, 1, 1, [...], 1, 0, 0, 2, 2, 2]\n",
      "check_zeros_x 3\n",
      "check_zeros_y 1\n",
      "check_zeros_x 3\n",
      "check_zeros_y 0\n",
      "check_zeros_x 2\n",
      "check_zeros_y 0\n",
      "check_zeros_x 1\n",
      "check_zeros_y 2\n",
      "check_zeros_x 2\n",
      "check_zeros_y 2\n",
      "check_zeros_x 3\n",
      "check_zeros_y 2\n",
      "list x: [3, 2, 3, 2, 2, 3, [...], 2, 2, 3, 3, 3, 2, 1, 2, 3, [...], 3, 3, 2, 1, 2, 3]\n",
      "list y [0, 1, 1, 0, 1, 1, 0, 1, 1, [...], 1, 0, 0, 2, 2, 2, 1, 0, 0, 2, 2, 2]\n"
     ]
    },
    {
     "data": {
      "text/plain": [
       "[[' ', '1', '2', '3', '4', '5', '6', '7', '8', '9', '10'],\n",
       " ['1', '_', '_', '0', '0', '_', '_', '_', '_', '_', '_'],\n",
       " ['2', '_', '_', '0', '_', '_', '_', '_', '_', '_', '_'],\n",
       " ['3', '_', '_', '_', '_', '_', '_', '_', '_', '_', '_'],\n",
       " ['4', '_', '_', '_', '_', '_', '_', '_', '_', '_', '_'],\n",
       " ['5', '_', '_', '_', '_', '_', '_', '_', '_', '_', '_'],\n",
       " ['6', '_', '_', '_', '_', '_', '_', '_', '_', '_', '_'],\n",
       " ['7', '_', '_', '_', '_', '_', '_', '_', '_', '_', '_'],\n",
       " ['8', '_', '_', '_', '_', '_', '_', '_', '_', '_', '_'],\n",
       " ['9', '_', '_', '_', '_', '_', '_', '_', '_', '_', '_'],\n",
       " ['10', '_', '_', '_', '_', '_', '_', '_', '_', '_', '_']]"
      ]
     },
     "metadata": {},
     "output_type": "display_data"
    },
    {
     "name": "stdout",
     "output_type": "stream",
     "text": [
      "list x1: [3, 2, 3, 2, 2, 3, [...], 2, 2, 3, 3, 3, 2, 1, 2, 3, [...], 3, 3, 2, 1, 2, 3]\n",
      "list y1 [0, 1, 1, 0, 1, 1, 0, 1, 1, [...], 1, 0, 0, 2, 2, 2, 1, 0, 0, 2, 2, 2, [...]]\n",
      "check_zeros_x 3\n",
      "check_zeros_y 0\n",
      "check_zeros_x 2\n",
      "check_zeros_y 0\n",
      "check_zeros_x 2\n",
      "check_zeros_y 1\n",
      "check_zeros_x 2\n",
      "check_zeros_y 2\n",
      "check_zeros_x 3\n",
      "check_zeros_y 2\n",
      "list x: [3, 2, 3, 2, 2, 3, [...], 2, 2, 3, 3, 3, 2, 1, 2, 3, [...], 3, 3, 2, 1, 2, 3, 3, 2, 2, 2, 3]\n",
      "list y [0, 1, 1, 0, 1, 1, 0, 1, 1, [...], 1, 0, 0, 2, 2, 2, 1, 0, 0, 2, 2, 2, [...], 0, 0, 1, 2, 2]\n",
      "list x1: [3, 2, 3, 2, 2, 3, [...], 2, 2, 3, 3, 3, 2, 1, 2, 3, [...], 3, 3, 2, 1, 2, 3, 3, 2, 2, 2, 3, [...]]\n",
      "list y1 [0, 1, 1, 0, 1, 1, 0, 1, 1, [...], 1, 0, 0, 2, 2, 2, 1, 0, 0, 2, 2, 2, [...], 0, 0, 1, 2, 2]\n",
      "check_zeros_x 3\n",
      "check_zeros_y 0\n",
      "check_zeros_x 2\n",
      "check_zeros_y 0\n",
      "check_zeros_x 2\n",
      "check_zeros_y 1\n",
      "check_zeros_x 2\n",
      "check_zeros_y 2\n",
      "check_zeros_x 3\n",
      "check_zeros_y 2\n",
      "list x: [3, 2, 3, 2, 2, 3, [...], 2, 2, 3, 3, 3, 2, 1, 2, 3, [...], 3, 3, 2, 1, 2, 3, 3, 2, 2, 2, 3, [...], 3, 2, 2, 2, 3]\n",
      "list y [0, 1, 1, 0, 1, 1, 0, 1, 1, [...], 1, 0, 0, 2, 2, 2, 1, 0, 0, 2, 2, 2, [...], 0, 0, 1, 2, 2, 0, 0, 1, 2, 2]\n"
     ]
    },
    {
     "data": {
      "text/plain": [
       "[[' ', '1', '2', '3', '4', '5', '6', '7', '8', '9', '10'],\n",
       " ['1', '_', '_', '0', '0', '_', '_', '_', '_', '_', '_'],\n",
       " ['2', '_', '_', '0', '0', '_', '_', '_', '_', '_', '_'],\n",
       " ['3', '_', '_', '_', '_', '_', '_', '_', '_', '_', '_'],\n",
       " ['4', '_', '_', '_', '_', '_', '_', '_', '_', '_', '_'],\n",
       " ['5', '_', '_', '_', '_', '_', '_', '_', '_', '_', '_'],\n",
       " ['6', '_', '_', '_', '_', '_', '_', '_', '_', '_', '_'],\n",
       " ['7', '_', '_', '_', '_', '_', '_', '_', '_', '_', '_'],\n",
       " ['8', '_', '_', '_', '_', '_', '_', '_', '_', '_', '_'],\n",
       " ['9', '_', '_', '_', '_', '_', '_', '_', '_', '_', '_'],\n",
       " ['10', '_', '_', '_', '_', '_', '_', '_', '_', '_', '_']]"
      ]
     },
     "metadata": {},
     "output_type": "display_data"
    },
    {
     "name": "stdout",
     "output_type": "stream",
     "text": [
      "list x1: [3, 2, 3, 2, 2, 3, [...], 2, 2, 3, 3, 3, 2, 1, 2, 3, [...], 3, 3, 2, 1, 2, 3, 3, 2, 2, 2, 3, [...], 3, 2, 2, 2, 3]\n",
      "list y1 [0, 1, 1, 0, 1, 1, 0, 1, 1, [...], 1, 0, 0, 2, 2, 2, 1, 0, 0, 2, 2, 2, [...], 0, 0, 1, 2, 2, 0, 0, 1, 2, 2, [...]]\n",
      "check_zeros_x 3\n",
      "check_zeros_y 0\n",
      "check_zeros_x 2\n",
      "check_zeros_y 1\n",
      "check_zeros_x 3\n",
      "check_zeros_y 1\n",
      "list x: [3, 2, 3, 2, 2, 3, [...], 2, 2, 3, 3, 3, 2, 1, 2, 3, [...], 3, 3, 2, 1, 2, 3, 3, 2, 2, 2, 3, [...], 3, 2, 2, 2, 3, 3, 2, 3]\n",
      "list y [0, 1, 1, 0, 1, 1, 0, 1, 1, [...], 1, 0, 0, 2, 2, 2, 1, 0, 0, 2, 2, 2, [...], 0, 0, 1, 2, 2, 0, 0, 1, 2, 2, [...], 0, 1, 1]\n",
      "list x1: [3, 2, 3, 2, 2, 3, [...], 2, 2, 3, 3, 3, 2, 1, 2, 3, [...], 3, 3, 2, 1, 2, 3, 3, 2, 2, 2, 3, [...], 3, 2, 2, 2, 3, 3, 2, 3, [...]]\n",
      "list y1 [0, 1, 1, 0, 1, 1, 0, 1, 1, [...], 1, 0, 0, 2, 2, 2, 1, 0, 0, 2, 2, 2, [...], 0, 0, 1, 2, 2, 0, 0, 1, 2, 2, [...], 0, 1, 1]\n",
      "check_zeros_x 3\n",
      "check_zeros_y 0\n",
      "check_zeros_x 2\n",
      "check_zeros_y 1\n",
      "check_zeros_x 3\n",
      "check_zeros_y 1\n",
      "list x: [3, 2, 3, 2, 2, 3, [...], 2, 2, 3, 3, 3, 2, 1, 2, 3, [...], 3, 3, 2, 1, 2, 3, 3, 2, 2, 2, 3, [...], 3, 2, 2, 2, 3, 3, 2, 3, [...], 3, 2, 3]\n",
      "list y [0, 1, 1, 0, 1, 1, 0, 1, 1, [...], 1, 0, 0, 2, 2, 2, 1, 0, 0, 2, 2, 2, [...], 0, 0, 1, 2, 2, 0, 0, 1, 2, 2, [...], 0, 1, 1, 0, 1, 1]\n"
     ]
    },
    {
     "data": {
      "text/plain": [
       "[[' ', '1', '2', '3', '4', '5', '6', '7', '8', '9', '10'],\n",
       " ['1', '_', '_', '0', '0', '_', '_', '_', '_', '_', '_'],\n",
       " ['2', '_', '_', '0', '0', '_', '_', '_', '_', '_', '_'],\n",
       " ['3', '_', '_', '_', '_', '_', '_', '_', '_', '_', '_'],\n",
       " ['4', '_', '_', '_', '_', '_', '_', '_', '_', '_', '_'],\n",
       " ['5', '_', '_', '_', '_', '_', '_', '_', '_', '_', '_'],\n",
       " ['6', '_', '_', '_', '_', '_', '_', '_', '_', '_', '_'],\n",
       " ['7', '_', '_', '_', '_', '_', '_', '_', '_', '_', '_'],\n",
       " ['8', '_', '_', '_', '_', '_', '_', '_', '_', '_', '_'],\n",
       " ['9', '_', '_', '_', '_', '_', '_', '_', '_', '_', '_'],\n",
       " ['10', '_', '_', '_', '_', '_', '_', '_', '_', '_', '_']]"
      ]
     },
     "metadata": {},
     "output_type": "display_data"
    },
    {
     "name": "stdout",
     "output_type": "stream",
     "text": [
      "list x1: [3, 2, 3, 2, 2, 3, [...], 2, 2, 3, 3, 3, 2, 1, 2, 3, [...], 3, 3, 2, 1, 2, 3, 3, 2, 2, 2, 3, [...], 3, 2, 2, 2, 3, 3, 2, 3, [...], 3, 2, 3]\n",
      "list y1 [0, 1, 1, 0, 1, 1, 0, 1, 1, [...], 1, 0, 0, 2, 2, 2, 1, 0, 0, 2, 2, 2, [...], 0, 0, 1, 2, 2, 0, 0, 1, 2, 2, [...], 0, 1, 1, 0, 1, 1, [...]]\n",
      "check_zeros_x 3\n",
      "check_zeros_y 1\n",
      "check_zeros_x 3\n",
      "check_zeros_y 0\n",
      "check_zeros_x 2\n",
      "check_zeros_y 0\n",
      "check_zeros_x 1\n",
      "check_zeros_y 2\n",
      "check_zeros_x 2\n",
      "check_zeros_y 2\n",
      "check_zeros_x 3\n",
      "check_zeros_y 2\n",
      "list x: [3, 2, 3, 2, 2, 3, [...], 2, 2, 3, 3, 3, 2, 1, 2, 3, [...], 3, 3, 2, 1, 2, 3, 3, 2, 2, 2, 3, [...], 3, 2, 2, 2, 3, 3, 2, 3, [...], 3, 2, 3, 3, 3, 2, 1, 2, 3]\n",
      "list y [0, 1, 1, 0, 1, 1, 0, 1, 1, [...], 1, 0, 0, 2, 2, 2, 1, 0, 0, 2, 2, 2, [...], 0, 0, 1, 2, 2, 0, 0, 1, 2, 2, [...], 0, 1, 1, 0, 1, 1, [...], 1, 0, 0, 2, 2, 2]\n",
      "list x1: [3, 2, 3, 2, 2, 3, [...], 2, 2, 3, 3, 3, 2, 1, 2, 3, [...], 3, 3, 2, 1, 2, 3, 3, 2, 2, 2, 3, [...], 3, 2, 2, 2, 3, 3, 2, 3, [...], 3, 2, 3, 3, 3, 2, 1, 2, 3, [...]]\n",
      "list y1 [0, 1, 1, 0, 1, 1, 0, 1, 1, [...], 1, 0, 0, 2, 2, 2, 1, 0, 0, 2, 2, 2, [...], 0, 0, 1, 2, 2, 0, 0, 1, 2, 2, [...], 0, 1, 1, 0, 1, 1, [...], 1, 0, 0, 2, 2, 2]\n",
      "check_zeros_x 3\n",
      "check_zeros_y 1\n",
      "check_zeros_x 3\n",
      "check_zeros_y 0\n",
      "check_zeros_x 2\n",
      "check_zeros_y 0\n",
      "check_zeros_x 1\n",
      "check_zeros_y 2\n",
      "check_zeros_x 2\n",
      "check_zeros_y 2\n",
      "check_zeros_x 3\n",
      "check_zeros_y 2\n",
      "list x: [3, 2, 3, 2, 2, 3, [...], 2, 2, 3, 3, 3, 2, 1, 2, 3, [...], 3, 3, 2, 1, 2, 3, 3, 2, 2, 2, 3, [...], 3, 2, 2, 2, 3, 3, 2, 3, [...], 3, 2, 3, 3, 3, 2, 1, 2, 3, [...], 3, 3, 2, 1, 2, 3]\n",
      "list y [0, 1, 1, 0, 1, 1, 0, 1, 1, [...], 1, 0, 0, 2, 2, 2, 1, 0, 0, 2, 2, 2, [...], 0, 0, 1, 2, 2, 0, 0, 1, 2, 2, [...], 0, 1, 1, 0, 1, 1, [...], 1, 0, 0, 2, 2, 2, 1, 0, 0, 2, 2, 2]\n"
     ]
    },
    {
     "data": {
      "text/plain": [
       "[[' ', '1', '2', '3', '4', '5', '6', '7', '8', '9', '10'],\n",
       " ['1', '_', '_', '0', '0', '_', '_', '_', '_', '_', '_'],\n",
       " ['2', '_', '_', '0', '0', '_', '_', '_', '_', '_', '_'],\n",
       " ['3', '_', '_', '_', '_', '_', '_', '_', '_', '_', '_'],\n",
       " ['4', '_', '_', '_', '_', '_', '_', '_', '_', '_', '_'],\n",
       " ['5', '_', '_', '_', '_', '_', '_', '_', '_', '_', '_'],\n",
       " ['6', '_', '_', '_', '_', '_', '_', '_', '_', '_', '_'],\n",
       " ['7', '_', '_', '_', '_', '_', '_', '_', '_', '_', '_'],\n",
       " ['8', '_', '_', '_', '_', '_', '_', '_', '_', '_', '_'],\n",
       " ['9', '_', '_', '_', '_', '_', '_', '_', '_', '_', '_'],\n",
       " ['10', '_', '_', '_', '_', '_', '_', '_', '_', '_', '_']]"
      ]
     },
     "metadata": {},
     "output_type": "display_data"
    },
    {
     "name": "stdout",
     "output_type": "stream",
     "text": [
      "list x1: [3, 2, 3, 2, 2, 3, [...], 2, 2, 3, 3, 3, 2, 1, 2, 3, [...], 3, 3, 2, 1, 2, 3, 3, 2, 2, 2, 3, [...], 3, 2, 2, 2, 3, 3, 2, 3, [...], 3, 2, 3, 3, 3, 2, 1, 2, 3, [...], 3, 3, 2, 1, 2, 3]\n",
      "list y1 [0, 1, 1, 0, 1, 1, 0, 1, 1, [...], 1, 0, 0, 2, 2, 2, 1, 0, 0, 2, 2, 2, [...], 0, 0, 1, 2, 2, 0, 0, 1, 2, 2, [...], 0, 1, 1, 0, 1, 1, [...], 1, 0, 0, 2, 2, 2, 1, 0, 0, 2, 2, 2, [...]]\n",
      "check_zeros_x 3\n",
      "check_zeros_y 0\n",
      "check_zeros_x 2\n",
      "check_zeros_y 0\n",
      "check_zeros_x 2\n",
      "check_zeros_y 1\n",
      "check_zeros_x 2\n",
      "check_zeros_y 2\n",
      "check_zeros_x 3\n",
      "check_zeros_y 2\n",
      "list x: [3, 2, 3, 2, 2, 3, [...], 2, 2, 3, 3, 3, 2, 1, 2, 3, [...], 3, 3, 2, 1, 2, 3, 3, 2, 2, 2, 3, [...], 3, 2, 2, 2, 3, 3, 2, 3, [...], 3, 2, 3, 3, 3, 2, 1, 2, 3, [...], 3, 3, 2, 1, 2, 3, 3, 2, 2, 2, 3]\n",
      "list y [0, 1, 1, 0, 1, 1, 0, 1, 1, [...], 1, 0, 0, 2, 2, 2, 1, 0, 0, 2, 2, 2, [...], 0, 0, 1, 2, 2, 0, 0, 1, 2, 2, [...], 0, 1, 1, 0, 1, 1, [...], 1, 0, 0, 2, 2, 2, 1, 0, 0, 2, 2, 2, [...], 0, 0, 1, 2, 2]\n",
      "list x1: [3, 2, 3, 2, 2, 3, [...], 2, 2, 3, 3, 3, 2, 1, 2, 3, [...], 3, 3, 2, 1, 2, 3, 3, 2, 2, 2, 3, [...], 3, 2, 2, 2, 3, 3, 2, 3, [...], 3, 2, 3, 3, 3, 2, 1, 2, 3, [...], 3, 3, 2, 1, 2, 3, 3, 2, 2, 2, 3, [...]]\n",
      "list y1 [0, 1, 1, 0, 1, 1, 0, 1, 1, [...], 1, 0, 0, 2, 2, 2, 1, 0, 0, 2, 2, 2, [...], 0, 0, 1, 2, 2, 0, 0, 1, 2, 2, [...], 0, 1, 1, 0, 1, 1, [...], 1, 0, 0, 2, 2, 2, 1, 0, 0, 2, 2, 2, [...], 0, 0, 1, 2, 2]\n",
      "check_zeros_x 3\n",
      "check_zeros_y 0\n",
      "check_zeros_x 2\n",
      "check_zeros_y 0\n",
      "check_zeros_x 2\n",
      "check_zeros_y 1\n",
      "check_zeros_x 2\n",
      "check_zeros_y 2\n",
      "check_zeros_x 3\n",
      "check_zeros_y 2\n",
      "list x: [3, 2, 3, 2, 2, 3, [...], 2, 2, 3, 3, 3, 2, 1, 2, 3, [...], 3, 3, 2, 1, 2, 3, 3, 2, 2, 2, 3, [...], 3, 2, 2, 2, 3, 3, 2, 3, [...], 3, 2, 3, 3, 3, 2, 1, 2, 3, [...], 3, 3, 2, 1, 2, 3, 3, 2, 2, 2, 3, [...], 3, 2, 2, 2, 3]\n",
      "list y [0, 1, 1, 0, 1, 1, 0, 1, 1, [...], 1, 0, 0, 2, 2, 2, 1, 0, 0, 2, 2, 2, [...], 0, 0, 1, 2, 2, 0, 0, 1, 2, 2, [...], 0, 1, 1, 0, 1, 1, [...], 1, 0, 0, 2, 2, 2, 1, 0, 0, 2, 2, 2, [...], 0, 0, 1, 2, 2, 0, 0, 1, 2, 2]\n"
     ]
    },
    {
     "data": {
      "text/plain": [
       "[[' ', '1', '2', '3', '4', '5', '6', '7', '8', '9', '10'],\n",
       " ['1', '_', '_', '0', '0', '_', '_', '_', '_', '_', '_'],\n",
       " ['2', '_', '_', '0', '0', '_', '_', '_', '_', '_', '_'],\n",
       " ['3', '_', '_', '_', '_', '_', '_', '_', '_', '_', '_'],\n",
       " ['4', '_', '_', '_', '_', '_', '_', '_', '_', '_', '_'],\n",
       " ['5', '_', '_', '_', '_', '_', '_', '_', '_', '_', '_'],\n",
       " ['6', '_', '_', '_', '_', '_', '_', '_', '_', '_', '_'],\n",
       " ['7', '_', '_', '_', '_', '_', '_', '_', '_', '_', '_'],\n",
       " ['8', '_', '_', '_', '_', '_', '_', '_', '_', '_', '_'],\n",
       " ['9', '_', '_', '_', '_', '_', '_', '_', '_', '_', '_'],\n",
       " ['10', '_', '_', '_', '_', '_', '_', '_', '_', '_', '_']]"
      ]
     },
     "metadata": {},
     "output_type": "display_data"
    },
    {
     "ename": "TypeError",
     "evalue": "can only concatenate list (not \"int\") to list",
     "output_type": "error",
     "traceback": [
      "\u001b[0;31m---------------------------------------------------------------------------\u001b[0m",
      "\u001b[0;31mTypeError\u001b[0m                                 Traceback (most recent call last)",
      "\u001b[0;32m<ipython-input-88-efcffa357264>\u001b[0m in \u001b[0;36m<module>\u001b[0;34m\u001b[0m\n\u001b[1;32m     50\u001b[0m             \u001b[0mfake_grid\u001b[0m\u001b[0;34m[\u001b[0m\u001b[0minputted_y\u001b[0m\u001b[0;34m]\u001b[0m\u001b[0;34m[\u001b[0m\u001b[0minputted_x\u001b[0m\u001b[0;34m]\u001b[0m \u001b[0;34m=\u001b[0m \u001b[0mval_at_loc\u001b[0m\u001b[0;34m\u001b[0m\u001b[0;34m\u001b[0m\u001b[0m\n\u001b[1;32m     51\u001b[0m     \u001b[0mdisplay\u001b[0m\u001b[0;34m(\u001b[0m\u001b[0mgame_grid_values\u001b[0m\u001b[0;34m)\u001b[0m\u001b[0;34m\u001b[0m\u001b[0;34m\u001b[0m\u001b[0m\n\u001b[0;32m---> 52\u001b[0;31m \u001b[0mmain\u001b[0m\u001b[0;34m(\u001b[0m\u001b[0;34m)\u001b[0m\u001b[0;34m\u001b[0m\u001b[0;34m\u001b[0m\u001b[0m\n\u001b[0m",
      "\u001b[0;32m<ipython-input-88-efcffa357264>\u001b[0m in \u001b[0;36mmain\u001b[0;34m()\u001b[0m\n\u001b[1;32m     41\u001b[0m                 \u001b[0;32mfor\u001b[0m \u001b[0mx_zero\u001b[0m\u001b[0;34m,\u001b[0m \u001b[0my_zero\u001b[0m \u001b[0;32min\u001b[0m \u001b[0mzip\u001b[0m\u001b[0;34m(\u001b[0m\u001b[0mall_zeros_x\u001b[0m\u001b[0;34m,\u001b[0m\u001b[0mall_zeros_y\u001b[0m\u001b[0;34m)\u001b[0m\u001b[0;34m:\u001b[0m\u001b[0;34m\u001b[0m\u001b[0;34m\u001b[0m\u001b[0m\n\u001b[1;32m     42\u001b[0m                     \u001b[0;31m#print(y_zero)\u001b[0m\u001b[0;34m\u001b[0m\u001b[0;34m\u001b[0m\u001b[0;34m\u001b[0m\u001b[0m\n\u001b[0;32m---> 43\u001b[0;31m                     \u001b[0mfake_grid\u001b[0m\u001b[0;34m[\u001b[0m\u001b[0my_zero\u001b[0m\u001b[0;34m+\u001b[0m\u001b[0;36m1\u001b[0m\u001b[0;34m]\u001b[0m\u001b[0;34m[\u001b[0m\u001b[0mx_zero\u001b[0m\u001b[0;34m+\u001b[0m\u001b[0;36m1\u001b[0m\u001b[0;34m]\u001b[0m \u001b[0;34m=\u001b[0m \u001b[0;34m'0'\u001b[0m\u001b[0;34m\u001b[0m\u001b[0;34m\u001b[0m\u001b[0m\n\u001b[0m\u001b[1;32m     44\u001b[0m                     \u001b[0mall_zeros_x\u001b[0m\u001b[0;34m.\u001b[0m\u001b[0mappend\u001b[0m\u001b[0;34m(\u001b[0m\u001b[0mcheck_zeros_tree\u001b[0m\u001b[0;34m(\u001b[0m\u001b[0mgame_grid_values\u001b[0m\u001b[0;34m,\u001b[0m\u001b[0mx_zero\u001b[0m\u001b[0;34m,\u001b[0m\u001b[0my_zero\u001b[0m\u001b[0;34m,\u001b[0m\u001b[0mall_zeros_x\u001b[0m\u001b[0;34m,\u001b[0m\u001b[0mall_zeros_y\u001b[0m\u001b[0;34m)\u001b[0m\u001b[0;34m[\u001b[0m\u001b[0;36m0\u001b[0m\u001b[0;34m]\u001b[0m\u001b[0;34m)\u001b[0m\u001b[0;34m\u001b[0m\u001b[0;34m\u001b[0m\u001b[0m\n\u001b[1;32m     45\u001b[0m                     \u001b[0mall_zeros_y\u001b[0m\u001b[0;34m.\u001b[0m\u001b[0mappend\u001b[0m\u001b[0;34m(\u001b[0m\u001b[0mcheck_zeros_tree\u001b[0m\u001b[0;34m(\u001b[0m\u001b[0mgame_grid_values\u001b[0m\u001b[0;34m,\u001b[0m\u001b[0mx_zero\u001b[0m\u001b[0;34m,\u001b[0m\u001b[0my_zero\u001b[0m\u001b[0;34m,\u001b[0m\u001b[0mall_zeros_x\u001b[0m\u001b[0;34m,\u001b[0m\u001b[0mall_zeros_y\u001b[0m\u001b[0;34m)\u001b[0m\u001b[0;34m[\u001b[0m\u001b[0;36m1\u001b[0m\u001b[0;34m]\u001b[0m\u001b[0;34m)\u001b[0m\u001b[0;34m\u001b[0m\u001b[0;34m\u001b[0m\u001b[0m\n",
      "\u001b[0;31mTypeError\u001b[0m: can only concatenate list (not \"int\") to list"
     ]
    }
   ],
   "source": [
    "def main():\n",
    "    game_status = True\n",
    "\n",
    "    game_grid = initialize_reset_grid()\n",
    "    game_grid_bombs = generate_bombs(initialize_reset_grid())\n",
    "    game_grid_values = add_values(game_grid_bombs)\n",
    "    \n",
    "    fake_grid = reset_fake_grid()\n",
    "    \n",
    "    display(game_grid_values)\n",
    "    \n",
    "    turns = 0\n",
    "    while game_status:\n",
    "        display(fake_grid)\n",
    "        inputted_x = int(input('Enter x value (1-10): '))\n",
    "        inputted_y = int(input('Enter y value (1-10): '))\n",
    "        \n",
    "        print(game_grid_values[inputted_y-1][inputted_x-1])\n",
    "        \n",
    "        if inputted_x>0 and inputted_y>0:\n",
    "            val_at_loc = game_grid_values[inputted_y-1][inputted_x-1]\n",
    "            if val_at_loc == 'X':\n",
    "                game_status = False\n",
    "                print('You lose!')\n",
    "            elif turns >= 90:\n",
    "                game_status = False\n",
    "                print('You found all the bombs you win!')\n",
    "                \n",
    "            \n",
    "            \n",
    "            elif val_at_loc == 0:\n",
    "                #start at inputted x,y\n",
    "                fake_grid[inputted_y][inputted_x] = '0'\n",
    "                \n",
    "                all_zeros_x = []\n",
    "                all_zeros_y = []\n",
    "                all_zeros_x, all_zeros_y = check_zeros_tree(game_grid_values,inputted_x-1,\n",
    "                                                            inputted_y-1,all_zeros_x,all_zeros_y)\n",
    "\n",
    "                print('in main:',all_zeros_y)\n",
    "                for x_zero, y_zero in zip(all_zeros_x,all_zeros_y):\n",
    "                    #print(y_zero)\n",
    "                    fake_grid[y_zero+1][x_zero+1] = '0'\n",
    "                    all_zeros_x.append(check_zeros_tree(game_grid_values,x_zero,y_zero,all_zeros_x,all_zeros_y)[0])\n",
    "                    all_zeros_y.append(check_zeros_tree(game_grid_values,x_zero,y_zero,all_zeros_x,all_zeros_y)[1])\n",
    "                    display(fake_grid)\n",
    "                    \n",
    "                #check if \n",
    "                \n",
    "            fake_grid[inputted_y][inputted_x] = val_at_loc\n",
    "    display(game_grid_values)\n",
    "main()"
   ]
  },
  {
   "cell_type": "markdown",
   "id": "8e3d1372",
   "metadata": {},
   "source": [
    "### "
   ]
  },
  {
   "cell_type": "code",
   "execution_count": 35,
   "id": "af11e2c6",
   "metadata": {},
   "outputs": [
    {
     "name": "stdout",
     "output_type": "stream",
     "text": [
      "1 7\n"
     ]
    }
   ],
   "source": [
    "x_check,y_check = 1,7\n",
    "if x_check >= 0 and y_check >= 0 and x_check <=9 and y_check <=9:\n",
    "    print(x_check,y_check)"
   ]
  },
  {
   "cell_type": "code",
   "execution_count": 48,
   "id": "f3d13fab",
   "metadata": {},
   "outputs": [
    {
     "name": "stdout",
     "output_type": "stream",
     "text": [
      "4 1\n",
      "5 2\n",
      "6 3\n",
      "7 3\n"
     ]
    }
   ],
   "source": [
    "all_zeros_x =[4,5,6,7]\n",
    "all_zeros_y =[1,2,3,3]\n",
    "for x_zero, y_zero in zip(all_zeros_x,all_zeros_y):\n",
    "    print(x_zero, y_zero)"
   ]
  },
  {
   "cell_type": "code",
   "execution_count": null,
   "id": "f6af43da",
   "metadata": {},
   "outputs": [],
   "source": []
  }
 ],
 "metadata": {
  "kernelspec": {
   "display_name": "Python 3",
   "language": "python",
   "name": "python3"
  },
  "language_info": {
   "codemirror_mode": {
    "name": "ipython",
    "version": 3
   },
   "file_extension": ".py",
   "mimetype": "text/x-python",
   "name": "python",
   "nbconvert_exporter": "python",
   "pygments_lexer": "ipython3",
   "version": "3.8.8"
  }
 },
 "nbformat": 4,
 "nbformat_minor": 5
}
