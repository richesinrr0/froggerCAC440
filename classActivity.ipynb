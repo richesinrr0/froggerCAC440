{
 "cells": [
  {
   "cell_type": "code",
   "execution_count": 1,
   "id": "bef04f0b",
   "metadata": {},
   "outputs": [],
   "source": [
    "from PIL import Image"
   ]
  },
  {
   "cell_type": "code",
   "execution_count": 14,
   "id": "c0fe4001",
   "metadata": {},
   "outputs": [],
   "source": [
    "class Sunset:\n",
    "    def __init__(self, pixels):\n",
    "        self.pixels = pixels\n",
    "    def sunset(self):\n",
    "        for i in range(img.size[0]):\n",
    "            for j in range(img.size[1]):\n",
    "                r,g,b = img.getpixel((i,j))\n",
    "                g *=.4\n",
    "                b *=.4\n",
    "                pixels[i,j] = (int(r), int(g), int(b))\n",
    "        img.save('test2.jpg')\n",
    "    \n",
    "    \n",
    "    def vert_split(self):\n",
    "        for i in range(img.size[0]//2):\n",
    "            for j in range(img.size[1]):\n",
    "                \n",
    "                r,g,b = img.getpixel((i,j))\n",
    "                    \n",
    "                pixels[i,j] = (int(r), int(g), int(b))\n",
    "        img.save('split3.jpg')\n",
    "                \n",
    "img = Image.open('Unknown.jpeg')   \n",
    "pixels = img.load()\n",
    "\n",
    "image1 = Sunset(pixels)\n",
    "#image1.sunset()\n",
    "image1.vert_split()\n",
    "\n"
   ]
  },
  {
   "cell_type": "code",
   "execution_count": null,
   "id": "e3c25bdb",
   "metadata": {},
   "outputs": [],
   "source": []
  }
 ],
 "metadata": {
  "kernelspec": {
   "display_name": "Python 3",
   "language": "python",
   "name": "python3"
  },
  "language_info": {
   "codemirror_mode": {
    "name": "ipython",
    "version": 3
   },
   "file_extension": ".py",
   "mimetype": "text/x-python",
   "name": "python",
   "nbconvert_exporter": "python",
   "pygments_lexer": "ipython3",
   "version": "3.8.8"
  }
 },
 "nbformat": 4,
 "nbformat_minor": 5
}
