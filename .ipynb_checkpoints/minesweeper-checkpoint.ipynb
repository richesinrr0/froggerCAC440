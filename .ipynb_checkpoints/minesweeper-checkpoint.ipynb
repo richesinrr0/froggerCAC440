{
 "cells": [
  {
   "cell_type": "code",
   "execution_count": null,
   "id": "11d70b05",
   "metadata": {},
   "outputs": [],
   "source": [
    "'''\n",
    "Create 10x10 grid\n",
    "mark empty cells with 0's\n",
    "use random number generator to generate positions of bombs <100\n",
    "function to take position of every bomb and add 1 to cells adjacent\n",
    "\n",
    "Gui:\n",
    "X = bomb\n",
    "F = flag\n",
    "0 = no adjacent \n",
    "(num) = number of adjacent\n",
    "\n",
    "\n",
    "\n",
    "x's next to each other\n",
    "x's at beginning and end of lines\n",
    "'''"
   ]
  },
  {
   "cell_type": "code",
   "execution_count": 1,
   "id": "e279e7b4",
   "metadata": {},
   "outputs": [],
   "source": [
    "import random"
   ]
  },
  {
   "cell_type": "code",
   "execution_count": null,
   "id": "d3dca01f",
   "metadata": {},
   "outputs": [],
   "source": [
    "game_grid = [[0,0,0,0,0,0,0,0,0,0],\n",
    "             [0,0,0,0,0,0,0,0,0,0],\n",
    "             [0,0,0,0,0,0,0,0,0,0],\n",
    "             [0,0,0,0,0,0,0,0,0,0],\n",
    "             [0,0,0,0,0,0,0,0,0,0],\n",
    "             [0,0,0,0,0,0,0,0,0,0],\n",
    "             [0,0,0,0,0,0,0,0,0,0],\n",
    "             [0,0,0,0,0,0,0,0,0,0],\n",
    "             [0,0,0,0,0,0,0,0,0,0],\n",
    "             [0,0,0,0,0,0,0,0,0,0]]\n",
    "\n"
   ]
  },
  {
   "cell_type": "code",
   "execution_count": 25,
   "id": "20df2df8",
   "metadata": {},
   "outputs": [],
   "source": [
    "def generate_bombs(game_grid):\n",
    "    #generate 10 postions for bombs\n",
    "    x_bomb_pos = []\n",
    "    y_bomb_pos = []\n",
    "    for i in range(11):\n",
    "        x_bomb_pos.append(random.randint(0,9))\n",
    "        y_bomb_pos.append(random.randint(0,9))\n",
    "    #place bombs on grid\n",
    "    for x,y in zip(x_bomb_pos, y_bomb_pos):\n",
    "        game_grid[x][y] = 'X'\n",
    "    return game_grid"
   ]
  },
  {
   "cell_type": "code",
   "execution_count": 26,
   "id": "3a19f875",
   "metadata": {},
   "outputs": [],
   "source": [
    "def initialize_reset_grid():\n",
    "    game_grid = [[0,0,0,0,0,0,0,0,0,0],\n",
    "             [0,0,0,0,0,0,0,0,0,0],\n",
    "             [0,0,0,0,0,0,0,0,0,0],\n",
    "             [0,0,0,0,0,0,0,0,0,0],\n",
    "             [0,0,0,0,0,0,0,0,0,0],\n",
    "             [0,0,0,0,0,0,0,0,0,0],\n",
    "             [0,0,0,0,0,0,0,0,0,0],\n",
    "             [0,0,0,0,0,0,0,0,0,0],\n",
    "             [0,0,0,0,0,0,0,0,0,0],\n",
    "             [0,0,0,0,0,0,0,0,0,0]]\n",
    "    return game_grid"
   ]
  },
  {
   "cell_type": "code",
   "execution_count": 27,
   "id": "b14818d3",
   "metadata": {},
   "outputs": [
    {
     "name": "stdout",
     "output_type": "stream",
     "text": [
      "[[0, 0, 0, 0, 0, 0, 0, 0, 0, 0], [0, 'X', 0, 'X', 0, 0, 0, 0, 0, 0], [0, 'X', 0, 0, 0, 0, 0, 0, 0, 0], [0, 0, 0, 0, 'X', 0, 0, 0, 0, 0], [0, 0, 0, 0, 0, 0, 0, 0, 0, 0], [0, 0, 0, 0, 0, 0, 0, 0, 0, 0], [0, 0, 0, 0, 0, 0, 0, 0, 'X', 0], ['X', 0, 0, 0, 0, 0, 'X', 0, 0, 0], [0, 0, 0, 0, 'X', 0, 0, 0, 0, 0], [0, 0, 0, 'X', 0, 'X', 0, 0, 0, 0]]\n"
     ]
    }
   ],
   "source": [
    "game_grid = generate_bombs(initialize_reset_grid())\n",
    "print(game_grid)"
   ]
  },
  {
   "cell_type": "code",
   "execution_count": null,
   "id": "e6ff5b45",
   "metadata": {},
   "outputs": [],
   "source": [
    "def checkCorners(game_grid, x_bomb_loc, y_bomb_loc):\n",
    "    if x_bomb_loc == 0\n",
    "    \n",
    "    \n",
    "    return True"
   ]
  },
  {
   "cell_type": "code",
   "execution_count": null,
   "id": "5e81dd63",
   "metadata": {},
   "outputs": [],
   "source": [
    "for y in range(10):\n",
    "    for x in range(10):\n",
    "        if game_grid[y][x] =='X':\n",
    "            #top left corner\n",
    "            if y==0 and x==0:\n",
    "                if game_grid[y][x+1] != 'X':\n",
    "                    game_grid[y][x+1] +=1\n",
    "                if game_grid[y+1][x] != 'X':\n",
    "                    game_grid[y+1][x] +=1\n",
    "                if game_grid[y+1][x+1] != 'X':\n",
    "                    game_grid[y+1][x+1] +=1\n",
    "            #top right corner\n",
    "            elif y==0 and x==9:\n",
    "                if game_grid[y][x-1] != 'X':\n",
    "                    game_grid[y][x-1] +=1\n",
    "                if game_grid[y+1][x-1] != 'X':\n",
    "                    game_grid[y+1][x-1] +=1\n",
    "                if game_grid[y+1][x] != 'X':\n",
    "                    game_grid[y+1][x] +=1\n",
    "            #bottom left corner\n",
    "            elif y==9 and x==0:\n",
    "                if game_grid[y][x+1] != 'X':\n",
    "                    game_grid[y][x+1] +=1\n",
    "                if game_grid[y-1][x] != 'X':\n",
    "                    game_grid[y-1][x] +=1\n",
    "                if game_grid[y-1][x+1] != 'X':\n",
    "                    game_grid[y-1][x+1] +=1\n",
    "            #bottom right corner\n",
    "            elif y==9 and x==9:\n",
    "                if game_grid[y][x-1] != 'X':\n",
    "                    game_grid[y][x-1] +=1\n",
    "                if game_grid[y-1][x] != 'X':\n",
    "                    game_grid[y-1][x] +=1\n",
    "                if game_grid[y-1][x-1] != 'X':\n",
    "                    game_grid[y-1][x-1] +=1\n",
    "            #top center\n",
    "            elif y==0:\n",
    "                if game_grid[y][x-1] != 'X':\n",
    "                    game_grid[y][x-1] +=1\n",
    "                if game_grid[y][x+1] != 'X':\n",
    "                    game_grid[y][x+1] +=1\n",
    "                if game_grid[y+1][x-1] != 'X':\n",
    "                    game_grid[y+1][x-1] +=1\n",
    "                if game_grid[y+1][x] != 'X':\n",
    "                    game_grid[y+1][x]+=1\n",
    "                if game_grid[y+1][x+1] != 'X':\n",
    "                    game_grid[y+1][x+1]+=1\n",
    "            #bottom center\n",
    "            elif y==9:\n",
    "                if game_grid[y][x-1] != 'X':\n",
    "                    game_grid[y][x-1] +=1\n",
    "                if game_grid[y][x+1] != 'X':\n",
    "                    game_grid[y][x+1] +=1\n",
    "                if game_grid[y-1][x-1] != 'X':\n",
    "                    game_grid[y-1][x-1]+=1\n",
    "                if game_grid[y-1][x] != 'X':\n",
    "                    game_grid[y-1][x]+=1\n",
    "                if game_grid[y-1][x+1] != 'X':\n",
    "                    game_grid[y-1][x+1]+=1\n",
    "            #left center\n",
    "            elif x==0:\n",
    "                 if game_grid[y-1][x] != 'X':\n",
    "                    game_grid[y-1][x] +=1\n",
    "                if game_grid[y-1][x+1] != 'X':\n",
    "                    game_grid[y-1][x+1] +=1\n",
    "                if game_grid[y][x+1] != 'X':\n",
    "                    game_grid[y][x+1]+=1\n",
    "                if game_grid[y+1][x] != 'X':\n",
    "                    game_grid[y+1][x]+=1\n",
    "                if game_grid[y+1][x+1] != 'X':\n",
    "                    game_grid[y+1][x+1]+=1\n",
    "            #right center\n",
    "            elif x==9:\n",
    "                if game_grid[y-1][x] != 'X':\n",
    "                    game_grid[y-1][x] +=1\n",
    "                if game_grid[y-1][x-1] != 'X':\n",
    "                    game_grid[y-1][x-1] +=1\n",
    "                if game_grid[y][x-1] != 'X':\n",
    "                    game_grid[y][x-1]+=1\n",
    "                if game_grid[y+1][x] != 'X':\n",
    "                    game_grid[y+1][x]+=1\n",
    "                if game_grid[y+1][x-1] != 'X':\n",
    "                    game_grid[y+1][x-1]+=1\n",
    "            #not corners\n",
    "            else:\n",
    "                if game_grid[y][x-1] != 'X':\n",
    "                    game_grid[y][x-1] +=1   \n",
    "                if game_grid[y][x+1] != 'X':\n",
    "                    game_grid[y][x+1] +=1  \n",
    "                if game_grid[y-1][x-1] != 'X':\n",
    "                    game_grid[y-1][x-1]+=1 \n",
    "                if game_grid[y-1][x] != 'X':\n",
    "                    game_grid[y-1][x]+=1  \n",
    "                if game_grid[y-1][x+1] != 'X':\n",
    "                    game_grid[y-1][x+1]+=1  \n",
    "                if game_grid[y+1][x-1] != 'X':\n",
    "                    game_grid[y+1][x-1] +=1 \n",
    "                if game_grid[y+1][x] != 'X':\n",
    "                    game_grid[y+1][x] +=1     \n",
    "                if game_grid[y+1][x+1] != 'X':\n",
    "                    game_grid[y+1][x+1] +=1\n",
    "        \n",
    "                \n",
    "                "
   ]
  },
  {
   "cell_type": "code",
   "execution_count": 28,
   "id": "cc2ec59c",
   "metadata": {},
   "outputs": [
    {
     "ename": "IndexError",
     "evalue": "list index out of range",
     "output_type": "error",
     "traceback": [
      "\u001b[0;31m---------------------------------------------------------------------------\u001b[0m",
      "\u001b[0;31mIndexError\u001b[0m                                Traceback (most recent call last)",
      "\u001b[0;32m<ipython-input-28-bb9db4ae0bff>\u001b[0m in \u001b[0;36m<module>\u001b[0;34m\u001b[0m\n\u001b[1;32m      5\u001b[0m             \u001b[0mgame_grid\u001b[0m\u001b[0;34m[\u001b[0m\u001b[0my\u001b[0m\u001b[0;34m]\u001b[0m\u001b[0;34m[\u001b[0m\u001b[0mx\u001b[0m\u001b[0;34m-\u001b[0m\u001b[0;36m1\u001b[0m\u001b[0;34m]\u001b[0m \u001b[0;34m+=\u001b[0m \u001b[0;36m1\u001b[0m\u001b[0;34m\u001b[0m\u001b[0;34m\u001b[0m\u001b[0m\n\u001b[1;32m      6\u001b[0m             \u001b[0;31m#right\u001b[0m\u001b[0;34m\u001b[0m\u001b[0;34m\u001b[0m\u001b[0;34m\u001b[0m\u001b[0m\n\u001b[0;32m----> 7\u001b[0;31m         \u001b[0;32mif\u001b[0m \u001b[0mgame_grid\u001b[0m\u001b[0;34m[\u001b[0m\u001b[0my\u001b[0m\u001b[0;34m]\u001b[0m\u001b[0;34m[\u001b[0m\u001b[0mx\u001b[0m\u001b[0;34m+\u001b[0m\u001b[0;36m1\u001b[0m\u001b[0;34m]\u001b[0m \u001b[0;34m==\u001b[0m\u001b[0;34m'X'\u001b[0m\u001b[0;34m:\u001b[0m\u001b[0;34m\u001b[0m\u001b[0;34m\u001b[0m\u001b[0m\n\u001b[0m\u001b[1;32m      8\u001b[0m             \u001b[0mgame_grid\u001b[0m\u001b[0;34m[\u001b[0m\u001b[0my\u001b[0m\u001b[0;34m]\u001b[0m\u001b[0;34m[\u001b[0m\u001b[0mx\u001b[0m\u001b[0;34m+\u001b[0m\u001b[0;36m2\u001b[0m\u001b[0;34m]\u001b[0m \u001b[0;34m+=\u001b[0m \u001b[0;36m1\u001b[0m\u001b[0;34m\u001b[0m\u001b[0;34m\u001b[0m\u001b[0m\n\u001b[1;32m      9\u001b[0m \u001b[0;34m\u001b[0m\u001b[0m\n",
      "\u001b[0;31mIndexError\u001b[0m: list index out of range"
     ]
    }
   ],
   "source": [
    "for y in range(10):\n",
    "    for x in range(10):\n",
    "        #Double\n",
    "        if game_grid[y][x] == 'X' and game_grid[y][x=1]\n",
    "        \n",
    "        #corner\n",
    "        if x == 0 or x == 9:\n",
    "            if game_grid[y][x] =='X':\n",
    "        \n",
    "        \n",
    "        #normal\n",
    "        if game_grid[y][x] =='X':\n",
    "            #Left\n",
    "            game_grid[y][x-1] += 1\n",
    "            #right\n",
    "        if game_grid[y][x+1] =='X':\n",
    "            game_grid[y][x+2] += 1\n",
    "        \n",
    "        \n",
    "            "
   ]
  },
  {
   "cell_type": "code",
   "execution_count": 29,
   "id": "f782eaf9",
   "metadata": {},
   "outputs": [
    {
     "name": "stdout",
     "output_type": "stream",
     "text": [
      "[[0, 0, 0, 0, 0, 0, 0, 0, 0, 0], [0, 'X', 0, 'X', 0, 0, 0, 0, 0, 0], [0, 'X', 0, 0, 0, 0, 0, 0, 0, 0], [0, 0, 0, 0, 'X', 0, 0, 0, 0, 0], [0, 0, 0, 0, 0, 0, 0, 0, 0, 0], [0, 0, 0, 0, 0, 0, 0, 0, 0, 0], [0, 0, 0, 0, 0, 0, 0, 0, 'X', 0], ['X', 0, 0, 0, 0, 0, 'X', 0, 0, 0], [0, 0, 0, 0, 'X', 0, 0, 0, 0, 0], [0, 0, 0, 'X', 0, 'X', 0, 0, 0, 0]]\n"
     ]
    }
   ],
   "source": [
    "print(game_grid)"
   ]
  },
  {
   "cell_type": "code",
   "execution_count": null,
   "id": "c80f1f1b",
   "metadata": {},
   "outputs": [],
   "source": [
    "for y in game_grid:\n",
    "    for x in y:\n",
    "        if x[]\n",
    "        #checkAdjacency()"
   ]
  },
  {
   "cell_type": "code",
   "execution_count": null,
   "id": "e4de316e",
   "metadata": {},
   "outputs": [],
   "source": []
  },
  {
   "cell_type": "code",
   "execution_count": 32,
   "id": "5913102d",
   "metadata": {},
   "outputs": [
    {
     "name": "stdout",
     "output_type": "stream",
     "text": [
      "0 1 2 3 4 5 6 7 8 9\n"
     ]
    }
   ],
   "source": [
    "numList = list(range(10))\n",
    "print(*numList)"
   ]
  },
  {
   "cell_type": "code",
   "execution_count": null,
   "id": "51c3eded",
   "metadata": {},
   "outputs": [],
   "source": []
  }
 ],
 "metadata": {
  "kernelspec": {
   "display_name": "Python 3",
   "language": "python",
   "name": "python3"
  },
  "language_info": {
   "codemirror_mode": {
    "name": "ipython",
    "version": 3
   },
   "file_extension": ".py",
   "mimetype": "text/x-python",
   "name": "python",
   "nbconvert_exporter": "python",
   "pygments_lexer": "ipython3",
   "version": "3.8.8"
  }
 },
 "nbformat": 4,
 "nbformat_minor": 5
}
